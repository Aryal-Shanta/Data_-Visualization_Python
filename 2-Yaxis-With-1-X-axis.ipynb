{
 "cells": [
  {
   "cell_type": "code",
   "execution_count": 1,
   "metadata": {},
   "outputs": [
    {
     "name": "stderr",
     "output_type": "stream",
     "text": [
      "UsageError: Line magic function `%matpltlib` not found.\n"
     ]
    }
   ],
   "source": [
    "#Creating 2 different Graph with 2 Yaxis in 2D\n",
    "import matplotlib.pyplot as plt\n",
    "import pandas as pd\n",
    "%matplotlib qt\n",
    "%matpltlib notebook\n",
    "\n",
    "save_data = pd.read_csv(\"Open_file.csv\", parse_dates =['date'], index_col = 'dates') #file name is openfile and contains dates with CO2 concentration and Temperature\n",
    "\n",
    "\n",
    "ax.plot(save_data.index, save_data['C02'], color ='blue')\n",
    "ax.set_xlabel(\"Time\")\n",
    "ax.set_ylabel('co2 concentration in ppm', color = 'b')\n",
    "ax.tick_params('y', color ='blue') #set the y label of CO2 to blue\n",
    "\n",
    "ax2 = ax.twinx() #this function create next y axis with same x-axis in 2D\n",
    "ax2.plot(save_data.index, save_data['temperature'], color ='red')\n",
    "ax2.set_ylabel(\"Temperature in Celcisu\", color ='red') #no need to set xlabel here\n",
    "ax.tick_params('y', color = 'red') # set ylabel of temperature to red\n",
    "plt.show()\n",
    "\n"
   ]
  },
  {
   "cell_type": "code",
   "execution_count": 3,
   "metadata": {},
   "outputs": [],
   "source": [
    "#using function call\n",
    "\n",
    "\n",
    "def plotting_series(axes, x, y, color, xlabel , ylabel):\n",
    "    axes.plot(x, y, color=color)\n",
    "    axes.set_xlabel(xlabel)\n",
    "    axes.set_ylabel(ylabel)\n",
    "    axes.tick_params('y', color =color)\n",
    "    \n",
    "fig, ax = plt.subplots()\n",
    "\n",
    "plotting_series(ax, save_data.index, save_data['CO2'], 'blue', \"Time\", \"CO2 cncentration in ppm\")\n",
    "\n",
    "ax2= ax.twinx()\n",
    "plotting_series(ax, save_data.index, save_data['temperature'], 'red', 'Time', 'Temperature in celcius')\n",
    "\n",
    "plt.show()\n",
    "    \n"
   ]
  },
  {
   "cell_type": "code",
   "execution_count": null,
   "metadata": {},
   "outputs": [],
   "source": []
  }
 ],
 "metadata": {
  "kernelspec": {
   "display_name": "Python 3",
   "language": "python",
   "name": "python3"
  },
  "language_info": {
   "codemirror_mode": {
    "name": "ipython",
    "version": 3
   },
   "file_extension": ".py",
   "mimetype": "text/x-python",
   "name": "python",
   "nbconvert_exporter": "python",
   "pygments_lexer": "ipython3",
   "version": "3.8.3"
  }
 },
 "nbformat": 4,
 "nbformat_minor": 4
}
