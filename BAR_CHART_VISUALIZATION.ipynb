{
 "cells": [
  {
   "cell_type": "code",
   "execution_count": 5,
   "metadata": {},
   "outputs": [],
   "source": [
    "import pandas as pd\n",
    "import matplotlib.pyplot as plt \n",
    "%matplotlib qt\n",
    "medals =pd.read_csv(\"Data_Olympic.csv\", index_col =0)\n",
    "fig, ax = plt.subplots()\n",
    "ax.bar(medals.index, medals['Gold'], label ='Gold')\n",
    "ax.bar(medals.index, medals['Silver'], bottom = medals['Gold'], label= 'Silver') # stacking data in bar chart\n",
    "ax.bar(medals.index, medals['Bronze'], bottom = medals['Gold'] + medals['Silver'], label ='Bronze')\n",
    "ax.set_xticklabels(medals.index, rotation =90) #this rotate the x label by 90 degree\n",
    "ax.set_ylabel(\"Number of Medals\", color='red')\n",
    "ax.set_title('Olympic Medals in 2016', color ='darkblue')\n",
    "ax.set_facecolor('mistyrose')\n",
    "ax.legend()\n",
    "\n",
    "plt.show()"
   ]
  },
  {
   "cell_type": "code",
   "execution_count": 2,
   "metadata": {},
   "outputs": [],
   "source": [
    "#setting the page size\n",
    "import pandas as pd\n",
    "import matplotlib.pyplot as plt \n",
    "%matplotlib qt\n",
    "medals =pd.read_csv(\"Data_Olympic.csv\", index_col =0)\n",
    "fig, ax = plt.subplots()\n",
    "ax.bar(medals.index, medals['Gold'], label ='Gold')\n",
    "ax.bar(medals.index, medals['Silver'], bottom = medals['Gold'], label= 'Silver') # stacking data in bar chart\n",
    "ax.bar(medals.index, medals['Bronze'], bottom = medals['Gold'] + medals['Silver'], label ='Bronze')\n",
    "ax.set_xticklabels(medals.index, rotation =90) #this rotate the x label by 90 degree\n",
    "ax.set_ylabel(\"Number of Medals\", color='red')\n",
    "ax.set_title('Olympic Medals in 2016', color ='darkblue')\n",
    "ax.set_facecolor('mistyrose')\n",
    "fig.set_size_inches([8,5]) # set size(x,y)\n",
    "ax.legend()\n",
    "\n",
    "plt.show()"
   ]
  },
  {
   "cell_type": "code",
   "execution_count": null,
   "metadata": {},
   "outputs": [],
   "source": []
  }
 ],
 "metadata": {
  "kernelspec": {
   "display_name": "Python 3",
   "language": "python",
   "name": "python3"
  },
  "language_info": {
   "codemirror_mode": {
    "name": "ipython",
    "version": 3
   },
   "file_extension": ".py",
   "mimetype": "text/x-python",
   "name": "python",
   "nbconvert_exporter": "python",
   "pygments_lexer": "ipython3",
   "version": "3.8.3"
  }
 },
 "nbformat": 4,
 "nbformat_minor": 4
}
