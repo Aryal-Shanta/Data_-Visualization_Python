{
 "cells": [
  {
   "cell_type": "code",
   "execution_count": null,
   "metadata": {},
   "outputs": [],
   "source": []
  },
  {
   "cell_type": "code",
   "execution_count": 4,
   "metadata": {},
   "outputs": [],
   "source": [
    "import turtle\n",
    "turtle.bgcolor(\"black\")\n",
    "turtle.pensize(1)\n",
    "turtle.speed(6)\n",
    "turtle.setposition(-500,150)\n",
    "for i in range(4):\n",
    "    for colours in [\"red\",\"blue\", \"green\",\"yellow\",\"white\",\"magenta\"]:\n",
    "        turtle.color(colours)\n",
    "        turtle.circle(50)\n",
    "        turtle.right(15)\n",
    "      \n",
    "turtle.done()"
   ]
  },
  {
   "cell_type": "code",
   "execution_count": 1,
   "metadata": {},
   "outputs": [],
   "source": [
    "import turtle\n",
    "turtle.bgcolor(\"black\")\n",
    "turtle.pensize(2)\n",
    "turtle.speed(5)\n",
    "turtle.setposition(500,200)\n",
    "turtle.pendown()\n",
    "for i in range(4):\n",
    "    for colours in [\"red\",\"blue\", \"green\",\"yellow\",\"white\",\"magenta\"]:\n",
    "        turtle.color(colours)\n",
    "        turtle.circle(60)\n",
    "        turtle.right(15)\n",
    "turtle.penup()\n",
    "#turtle.done()\n",
    "turtle.setposition(0,0)\n",
    "turtle.pensize(2)\n",
    "turtle.speed(9)\n",
    "turtle.pendown()\n",
    "for i in range(4):\n",
    "    for colours in [\"red\",\"blue\", \"green\",\"yellow\",\"white\",\"magenta\"]:\n",
    "        turtle.color(colours)\n",
    "        turtle.circle(150)\n",
    "        turtle.right(15)\n",
    "turtle.penup()\n",
    "\n",
    "turtle.setposition(-500, -150)\n",
    "turtle.pensize(2)\n",
    "turtle.speed(7)\n",
    "turtle.pendown()\n",
    "for i in range(4):\n",
    "    for colours in [\"red\",\"blue\", \"green\",\"yellow\",\"white\",\"magenta\"]:\n",
    "        turtle.color(colours)\n",
    "        turtle.forward(60)\n",
    "        turtle.left(90)\n",
    "        turtle.forward(60)\n",
    "        turtle.right(90)\n",
    "        turtle.forward(60)\n",
    "        turtle.left(90)\n",
    "        turtle.forward(60)\n",
    "        turtle.left(15)\n",
    "turtle.penup()\n",
    "#turtle.setposition(-500, 200)\n",
    "#turtle.pensize(2)\n",
    "#turtle.speed(6)\n",
    "#turtle.pendown()\n",
    "#for i in range(2):\n",
    " #   for colours in [\"red\",\"blue\", \"green\",\"yellow\",\"white\",\"magenta\"]:\n",
    "  #      turtle.color(colours)\n",
    "   #     turtle.pentagon(60)\n",
    "    #    turtle.right(15)\n",
    "#turtle.penup()\n",
    "turtle.done()"
   ]
  },
  {
   "cell_type": "code",
   "execution_count": 3,
   "metadata": {},
   "outputs": [],
   "source": [
    "import turtle\n",
    "turtle.bgcolor(\"black\")\n",
    "turtle.setposition(0, 0)\n",
    "turtle.pensize(2)\n",
    "turtle.speed(7)\n",
    "turtle.pendown()\n",
    "for i in range(4):\n",
    "    for colours in [\"red\",\"blue\", \"green\",\"yellow\",\"white\",\"magenta\"]:\n",
    "        turtle.color(colours)\n",
    "        turtle.circle(150)\n",
    "        turtle.circle(100)\n",
    "        turtle.circle(50)\n",
    "        turtle.circle(20)\n",
    "       \n",
    "        \n",
    "        turtle.left(15)\n",
    "        \n",
    "turtle.penup()\n",
    "turtle.done()"
   ]
  },
  {
   "cell_type": "code",
   "execution_count": null,
   "metadata": {},
   "outputs": [],
   "source": []
  },
  {
   "cell_type": "code",
   "execution_count": null,
   "metadata": {},
   "outputs": [],
   "source": []
  }
 ],
 "metadata": {
  "kernelspec": {
   "display_name": "Python 3",
   "language": "python",
   "name": "python3"
  },
  "language_info": {
   "codemirror_mode": {
    "name": "ipython",
    "version": 3
   },
   "file_extension": ".py",
   "mimetype": "text/x-python",
   "name": "python",
   "nbconvert_exporter": "python",
   "pygments_lexer": "ipython3",
   "version": "3.8.3"
  }
 },
 "nbformat": 4,
 "nbformat_minor": 4
}
