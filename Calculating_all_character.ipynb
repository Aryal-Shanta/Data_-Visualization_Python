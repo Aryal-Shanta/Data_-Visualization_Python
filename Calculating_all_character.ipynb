{
 "cells": [
  {
   "cell_type": "code",
   "execution_count": 15,
   "metadata": {},
   "outputs": [
    {
     "name": "stdout",
     "output_type": "stream",
     "text": [
      " The total character in this file is found to be  1285\n"
     ]
    }
   ],
   "source": [
    "#Calculating total character in any file including comma, space, newline and other all\n",
    "\n",
    "fn = open(\"File1.txt\")\n",
    "now=fn.read()\n",
    "count=0\n",
    "data=now.split()\n",
    "#print(data)\n",
    "for line in now:\n",
    "    word = line.split()\n",
    "    count=count+1\n",
    "    #print(word)\n",
    "    \n",
    "print(\" The total character in this file is found to be \",count)\n",
    "    "
   ]
  },
  {
   "cell_type": "code",
   "execution_count": null,
   "metadata": {},
   "outputs": [],
   "source": []
  }
 ],
 "metadata": {
  "kernelspec": {
   "display_name": "Python 3",
   "language": "python",
   "name": "python3"
  },
  "language_info": {
   "codemirror_mode": {
    "name": "ipython",
    "version": 3
   },
   "file_extension": ".py",
   "mimetype": "text/x-python",
   "name": "python",
   "nbconvert_exporter": "python",
   "pygments_lexer": "ipython3",
   "version": "3.8.3"
  }
 },
 "nbformat": 4,
 "nbformat_minor": 4
}
